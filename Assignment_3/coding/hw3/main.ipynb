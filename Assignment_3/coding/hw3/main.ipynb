{
  "cells": [
    {
      "cell_type": "markdown",
      "id": "e1d0dec0",
      "metadata": {
        "id": "e1d0dec0"
      },
      "source": [
        "# CS 4464/7643 Deep Learning HW 3"
      ]
    },
    {
      "cell_type": "markdown",
      "id": "e8e0ac21",
      "metadata": {
        "id": "e8e0ac21"
      },
      "source": [
        "## Setup"
      ]
    },
    {
      "cell_type": "markdown",
      "id": "b664688d",
      "metadata": {
        "id": "b664688d"
      },
      "source": [
        "### Google Colab\n",
        "\n",
        "Edit and run the cell below to setup the environment for Google Colab (and only for Google Colab)."
      ]
    },
    {
      "cell_type": "code",
      "source": [
        "from google.colab import drive\n",
        "drive.mount('/content/drive')"
      ],
      "metadata": {
        "id": "3s3pquSHlfz0"
      },
      "id": "3s3pquSHlfz0",
      "execution_count": null,
      "outputs": []
    },
    {
      "cell_type": "code",
      "execution_count": null,
      "id": "technological-catering",
      "metadata": {
        "id": "technological-catering"
      },
      "outputs": [],
      "source": [
        "# TODO : Change this path to the correct one for you\n",
        "# %cd /content/drive/MyDrive/hw3\n",
        "%cd /content/drive/MyDrive/GATECH/2023_Spring/DL_TA/HW3\n",
        "%pip install torch==1.8.1 torchvision==0.9.1 torchaudio==0.8.1\n",
        "%pip install captum"
      ]
    },
    {
      "cell_type": "markdown",
      "id": "1107dc59",
      "metadata": {
        "id": "1107dc59"
      },
      "source": [
        "### Local Environment\n",
        "\n",
        "Run the cell below **once** if using the suggested local environment (and only the local environment).\n",
        "\n",
        "Then, change the ipykernel in the top right of this VS Code window to `dl_hw3`."
      ]
    },
    {
      "cell_type": "code",
      "execution_count": 3,
      "id": "dc0da46f",
      "metadata": {
        "id": "dc0da46f"
      },
      "outputs": [],
      "source": [
        "# %conda env create -f ./local_environment/environment.yml"
      ]
    },
    {
      "cell_type": "markdown",
      "id": "yE-sdl_VRFWs",
      "metadata": {
        "id": "yE-sdl_VRFWs"
      },
      "source": [
        "## Network Visualization"
      ]
    },
    {
      "cell_type": "markdown",
      "id": "Usz_5psRYgIE",
      "metadata": {
        "id": "Usz_5psRYgIE"
      },
      "source": [
        "### Saliency Maps"
      ]
    },
    {
      "cell_type": "code",
      "execution_count": null,
      "id": "esp9ZBhOkwjf",
      "metadata": {
        "id": "esp9ZBhOkwjf"
      },
      "outputs": [],
      "source": [
        "import importlib\n",
        "import saliency_map as sm\n",
        "importlib.reload(sm)\n",
        "\n",
        "sm.manual_saliency_maps().show()"
      ]
    },
    {
      "cell_type": "code",
      "execution_count": null,
      "id": "bg4m68lTcH8a",
      "metadata": {
        "id": "bg4m68lTcH8a"
      },
      "outputs": [],
      "source": [
        "sm.captum_saliency_maps().show()"
      ]
    },
    {
      "cell_type": "markdown",
      "id": "YQPh1IAZYZmJ",
      "metadata": {
        "id": "YQPh1IAZYZmJ"
      },
      "source": [
        "### GradCam"
      ]
    },
    {
      "cell_type": "code",
      "execution_count": null,
      "id": "zI0iP5IdRtF4",
      "metadata": {
        "id": "zI0iP5IdRtF4"
      },
      "outputs": [],
      "source": [
        "import gradcam as gcam\n",
        "importlib.reload(gcam)\n",
        "\n",
        "gcam.guided_backprop().show()\n",
        "gcam.gradcam().show()\n",
        "gcam.guided_gradcam().show()"
      ]
    },
    {
      "cell_type": "code",
      "execution_count": null,
      "id": "98uUmw9SYUV8",
      "metadata": {
        "id": "98uUmw9SYUV8"
      },
      "outputs": [],
      "source": [
        "gcam.guided_gradcam_captum().show()"
      ]
    },
    {
      "cell_type": "markdown",
      "id": "45416a88",
      "metadata": {
        "id": "45416a88"
      },
      "source": [
        "**What does Saliency Map/GradCam tell you?**\n",
        "\n",
        "(Answer Here)"
      ]
    },
    {
      "cell_type": "code",
      "execution_count": null,
      "id": "e76IJM8wYWtW",
      "metadata": {
        "id": "e76IJM8wYWtW"
      },
      "outputs": [],
      "source": [
        "gcam.layer_vis_captum().show()"
      ]
    },
    {
      "cell_type": "markdown",
      "id": "1g5dv_YdYkUR",
      "metadata": {
        "id": "1g5dv_YdYkUR"
      },
      "source": [
        "### Fooling Images"
      ]
    },
    {
      "cell_type": "code",
      "execution_count": null,
      "id": "VZwsrX3cLDZy",
      "metadata": {
        "id": "VZwsrX3cLDZy"
      },
      "outputs": [],
      "source": [
        "# View Fooling Images\n",
        "import fooling_image as fim\n",
        "\n",
        "fim.fooling_image().show()"
      ]
    },
    {
      "cell_type": "markdown",
      "id": "0718aa89",
      "metadata": {
        "id": "0718aa89"
      },
      "source": [
        "**What does the fooling image tell you?**\n",
        "(Answer Here)"
      ]
    },
    {
      "cell_type": "markdown",
      "id": "yr8hU7YPYmf_",
      "metadata": {
        "id": "yr8hU7YPYmf_"
      },
      "source": [
        "### Class Visualizations"
      ]
    },
    {
      "cell_type": "code",
      "execution_count": null,
      "id": "VL1UbfL7LDiW",
      "metadata": {
        "id": "VL1UbfL7LDiW"
      },
      "outputs": [],
      "source": [
        "# View Class Visualizations\n",
        "import class_visualization as cv\n",
        "\n",
        "# You can use a single class during your debugging session,\n",
        "# but please show all the generated outputs in your submitted report\n",
        "\n",
        "cv.visualize_class(76).show() # Tarantula\n",
        "cv.visualize_class(78).show() # Tick\n",
        "cv.visualize_class(187).show() # Yorkshire Terrier\n",
        "cv.visualize_class(683).show() # Oboe\n",
        "cv.visualize_class(366).show() # Gorilla\n",
        "cv.visualize_class(604).show() # Hourglass"
      ]
    },
    {
      "cell_type": "markdown",
      "id": "cf7389b2",
      "metadata": {
        "id": "cf7389b2"
      },
      "source": [
        "## Style Transfer"
      ]
    },
    {
      "cell_type": "code",
      "execution_count": null,
      "id": "coral-monday",
      "metadata": {
        "id": "coral-monday"
      },
      "outputs": [],
      "source": [
        "# Test all style transfer functions\n",
        "!python -m unittest tests.all.Test\n",
        "\n",
        "# Uncomment the lines below to test individually\n",
        "#!python -m unittest tests.all.Test.test_content_loss\n",
        "#!python -m unittest tests.all.Test.test_gram_matrix\n",
        "#!python -m unittest tests.all.Test.test_style_loss\n",
        "# !python -m unittest tests.all.Test.test_tv_loss"
      ]
    },
    {
      "cell_type": "code",
      "execution_count": null,
      "id": "ExGIy_djQrJx",
      "metadata": {
        "id": "ExGIy_djQrJx"
      },
      "outputs": [],
      "source": [
        "# View Style Transfer Images\n",
        "import style_transfer as st \n",
        "\n",
        "st.composition_vii().show()\n",
        "st.scream().show()\n",
        "st.starry_night().show()"
      ]
    },
    {
      "cell_type": "markdown",
      "source": [
        "## Submission"
      ],
      "metadata": {
        "id": "Pz92oYDm9-B9"
      },
      "id": "Pz92oYDm9-B9"
    },
    {
      "cell_type": "code",
      "source": [
        "!python collect_submission.py"
      ],
      "metadata": {
        "id": "jRJ_k1Q399HY"
      },
      "id": "jRJ_k1Q399HY",
      "execution_count": null,
      "outputs": []
    }
  ],
  "metadata": {
    "colab": {
      "provenance": []
    },
    "kernelspec": {
      "display_name": "Python 3.9.7 64-bit",
      "language": "python",
      "name": "python3"
    },
    "language_info": {
      "codemirror_mode": {
        "name": "ipython",
        "version": 3
      },
      "file_extension": ".py",
      "mimetype": "text/x-python",
      "name": "python",
      "nbconvert_exporter": "python",
      "pygments_lexer": "ipython3",
      "version": "3.9.7"
    },
    "vscode": {
      "interpreter": {
        "hash": "b0fa6594d8f4cbf19f97940f81e996739fb7646882a419484c72d19e05852a7e"
      }
    }
  },
  "nbformat": 4,
  "nbformat_minor": 5
}